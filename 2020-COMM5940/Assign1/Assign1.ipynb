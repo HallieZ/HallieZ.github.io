{
 "cells": [
  {
   "cell_type": "markdown",
   "metadata": {},
   "source": [
    "<h1>MySQL and Airtable Data Access</h1>"
   ]
  },
  {
   "cell_type": "code",
   "execution_count": null,
   "metadata": {
    "scrolled": true
   },
   "outputs": [],
   "source": [
    "!pip install PyMySQL"
   ]
  },
  {
   "cell_type": "code",
   "execution_count": 1,
   "metadata": {
    "scrolled": true
   },
   "outputs": [],
   "source": [
    "import pymysql.cursors \n",
    "connection = pymysql.connect(host=\"localhost\", \n",
    "                             user=\"root\",\n",
    "                             passwd=\"root\", \n",
    "                             db=\"assign1\",\n",
    "                             charset='utf8mb4', \n",
    "                             cursorclass=pymysql.cursors.DictCursor)"
   ]
  },
  {
   "cell_type": "code",
   "execution_count": 13,
   "metadata": {
    "scrolled": true
   },
   "outputs": [
    {
     "name": "stdout",
     "output_type": "stream",
     "text": [
      "Requirement already satisfied: requests in c:\\users\\koe.shu\\anaconda3\\lib\\site-packages (2.22.0)\n",
      "Requirement already satisfied: urllib3!=1.25.0,!=1.25.1,<1.26,>=1.21.1 in c:\\users\\koe.shu\\anaconda3\\lib\\site-packages (from requests) (1.24.2)\n",
      "Requirement already satisfied: certifi>=2017.4.17 in c:\\users\\koe.shu\\anaconda3\\lib\\site-packages (from requests) (2019.9.11)\n",
      "Requirement already satisfied: idna<2.9,>=2.5 in c:\\users\\koe.shu\\anaconda3\\lib\\site-packages (from requests) (2.8)\n",
      "Requirement already satisfied: chardet<3.1.0,>=3.0.2 in c:\\users\\koe.shu\\anaconda3\\lib\\site-packages (from requests) (3.0.4)\n"
     ]
    }
   ],
   "source": [
    "!pip install requests"
   ]
  },
  {
   "cell_type": "code",
   "execution_count": 2,
   "metadata": {
    "scrolled": true
   },
   "outputs": [
    {
     "name": "stdout",
     "output_type": "stream",
     "text": [
      "\n",
      "\n",
      "[{'名称': '八墓村', '主演': '稻垣吾郎', '影视化': '电影', '上映日期': datetime.date(2004, 10, 1), '评分': 4}, {'名称': '白夜行', '主演': '绫濑遥；山田孝之', '影视化': '电影', '上映日期': datetime.date(2006, 1, 12), '评分': 5}, {'名称': '点与线', '主演': '北野武；高桥克典', '影视化': '连续剧', '上映日期': datetime.date(2007, 11, 24), '评分': 4}, {'名称': '告白', '主演': '松隆子', '影视化': '电影', '上映日期': datetime.date(2010, 6, 5), '评分': 5}, {'名称': '姑获鸟之夏', '主演': '堤真一', '影视化': '电影', '上映日期': datetime.date(2005, 7, 16), '评分': 3}, {'名称': '黑色皮革手册', '主演': '武井咲；江口洋介', '影视化': '连续剧', '上映日期': datetime.date(2017, 7, 20), '评分': 4}, {'名称': '幻夜', '主演': '深田恭子；塚本高史', '影视化': '连续剧', '上映日期': datetime.date(2010, 11, 21), '评分': 3}, {'名称': '假面饭店', '主演': '木村拓哉；长泽雅美', '影视化': '电影', '上映日期': datetime.date(2019, 1, 1), '评分': 4}, {'名称': '解忧杂货店', '主演': '山田凉介；西田敏行', '影视化': '电影', '上映日期': datetime.date(2017, 9, 23), '评分': 4}, {'名称': '零的焦点', '主演': '广末凉子；中谷美纪；木村多江', '影视化': '电影', '上映日期': datetime.date(2009, 11, 14), '评分': 4}, {'名称': '黎明之街', '主演': '岸谷五郎；深田恭子', '影视化': '电影', '上映日期': datetime.date(2011, 10, 8), '评分': 3}, {'名称': '流星之绊', '主演': '二宫和也；锦户亮；户田惠梨香', '影视化': '连续剧', '上映日期': datetime.date(2008, 10, 17), '评分': 4}, {'名称': '乐园', '主演': '仲间由纪惠；黑木瞳', '影视化': '连续剧', '上映日期': datetime.date(2017, 1, 8), '评分': 3}, {'名称': '模仿犯', '主演': '中谷美纪；坂口健太郎', '影视化': '连续剧', '上映日期': datetime.date(2016, 9, 21), '评分': 4}, {'名称': '秘密', '主演': '广末凉子；小林薰', '影视化': '电影', '上映日期': datetime.date(1999, 9, 25), '评分': 4}, {'名称': '名侦探的守则', '主演': '松田翔太；香锥由宇', '影视化': '连续剧', '上映日期': datetime.date(2009, 4, 17), '评分': 3}, {'名称': '砂器', '主演': '中居正广；渡边谦', '影视化': '连续剧', '上映日期': datetime.date(2004, 1, 18), '评分': 4}, {'名称': '替身', '主演': '桥本爱；山崎贤人', '影视化': '电影', '上映日期': datetime.date(2012, 8, 4), '评分': 3}, {'名称': '为了N', '主演': '仓荣奈奈；洼田正孝', '影视化': '连续剧', '上映日期': datetime.date(2014, 10, 17), '评分': 5}, {'名称': '魍魉之匣', '主演': '堤真一', '影视化': '电影', '上映日期': datetime.date(2007, 12, 22), '评分': 3}, {'名称': '嫌疑人x的献身', '主演': '福山雅治；堤真一', '影视化': '电影', '上映日期': datetime.date(2008, 10, 4), '评分': 4}, {'名称': '狱门岛', '主演': '长谷川博己', '影视化': '连续剧', '上映日期': datetime.date(2016, 11, 16), '评分': 3}]\n",
      "\n",
      "\n"
     ]
    }
   ],
   "source": [
    "with connection.cursor() as cursor:\n",
    "        sql = \"SELECT * FROM 书本影视化\"\n",
    "        cursor.execute(sql)\n",
    "        result = cursor.fetchall()\n",
    "        dataset = []\n",
    "        temp = {}\n",
    "        i = 0\n",
    "        for row in result:\n",
    "            temp[i] = row\n",
    "            dataset.append(temp[i])\n",
    "            i = i + 1\n",
    "        print('\\n')\n",
    "        print(dataset)\n",
    "        print('\\n')"
   ]
  },
  {
   "cell_type": "code",
   "execution_count": 3,
   "metadata": {},
   "outputs": [
    {
     "name": "stdout",
     "output_type": "stream",
     "text": [
      "[{'Name': '八墓村', 'Cast': '稻垣吾郎', 'TV series or Film': '电影', 'Date': '2004-10-01', 'Rating': 4}, {'Name': '白夜行', 'Cast': '绫濑遥；山田孝之', 'TV series or Film': '电影', 'Date': '2006-01-12', 'Rating': 5}, {'Name': '点与线', 'Cast': '北野武；高桥克典', 'TV series or Film': '连续剧', 'Date': '2007-11-24', 'Rating': 4}, {'Name': '告白', 'Cast': '松隆子', 'TV series or Film': '电影', 'Date': '2010-06-05', 'Rating': 5}, {'Name': '姑获鸟之夏', 'Cast': '堤真一', 'TV series or Film': '电影', 'Date': '2005-07-16', 'Rating': 3}, {'Name': '黑色皮革手册', 'Cast': '武井咲；江口洋介', 'TV series or Film': '连续剧', 'Date': '2017-07-20', 'Rating': 4}, {'Name': '幻夜', 'Cast': '深田恭子；塚本高史', 'TV series or Film': '连续剧', 'Date': '2010-11-21', 'Rating': 3}, {'Name': '假面饭店', 'Cast': '木村拓哉；长泽雅美', 'TV series or Film': '电影', 'Date': '2019-01-01', 'Rating': 4}, {'Name': '解忧杂货店', 'Cast': '山田凉介；西田敏行', 'TV series or Film': '电影', 'Date': '2017-09-23', 'Rating': 4}, {'Name': '零的焦点', 'Cast': '广末凉子；中谷美纪；木村多江', 'TV series or Film': '电影', 'Date': '2009-11-14', 'Rating': 4}, {'Name': '黎明之街', 'Cast': '岸谷五郎；深田恭子', 'TV series or Film': '电影', 'Date': '2011-10-08', 'Rating': 3}, {'Name': '流星之绊', 'Cast': '二宫和也；锦户亮；户田惠梨香', 'TV series or Film': '连续剧', 'Date': '2008-10-17', 'Rating': 4}, {'Name': '乐园', 'Cast': '仲间由纪惠；黑木瞳', 'TV series or Film': '连续剧', 'Date': '2017-01-08', 'Rating': 3}, {'Name': '模仿犯', 'Cast': '中谷美纪；坂口健太郎', 'TV series or Film': '连续剧', 'Date': '2016-09-21', 'Rating': 4}, {'Name': '秘密', 'Cast': '广末凉子；小林薰', 'TV series or Film': '电影', 'Date': '1999-09-25', 'Rating': 4}, {'Name': '名侦探的守则', 'Cast': '松田翔太；香锥由宇', 'TV series or Film': '连续剧', 'Date': '2009-04-17', 'Rating': 3}, {'Name': '砂器', 'Cast': '中居正广；渡边谦', 'TV series or Film': '连续剧', 'Date': '2004-01-18', 'Rating': 4}, {'Name': '替身', 'Cast': '桥本爱；山崎贤人', 'TV series or Film': '电影', 'Date': '2012-08-04', 'Rating': 3}, {'Name': '为了N', 'Cast': '仓荣奈奈；洼田正孝', 'TV series or Film': '连续剧', 'Date': '2014-10-17', 'Rating': 5}, {'Name': '魍魉之匣', 'Cast': '堤真一', 'TV series or Film': '电影', 'Date': '2007-12-22', 'Rating': 3}, {'Name': '嫌疑人x的献身', 'Cast': '福山雅治；堤真一', 'TV series or Film': '电影', 'Date': '2008-10-04', 'Rating': 4}, {'Name': '狱门岛', 'Cast': '长谷川博己', 'TV series or Film': '连续剧', 'Date': '2016-11-16', 'Rating': 3}]\n",
      "\n",
      "\n",
      "[None, None, None, None, None, None, None, None, None, None, None, None, None, None, None, None, None, None, None, None, None, None]\n"
     ]
    }
   ],
   "source": [
    "import requests\n",
    "\n",
    "headers = {\n",
    "'Authorization': 'Bearer keyoJSNH4UrvVdyMK',\n",
    "}\n",
    "\n",
    "params = (\n",
    "('view', 'Grid view'),\n",
    ")\n",
    "\n",
    "r = requests.get('https://api.airtable.com/v0/appRx9bziWSLTJcoZ/%E4%B9%A6%E6%9C%AC%E5%BD%B1%E8%A7%86%E5%8C%96?api_key=keyoJSNH4UrvVdyMK', headers=headers, params=params)\n",
    "dict = r.json()\n",
    "dataset = []\n",
    "productID = []\n",
    "productCode = []\n",
    "name = []\n",
    "for i in dict['records']:\n",
    "     dict = i['fields']\n",
    "     dataset.append(dict)\n",
    "print(dataset)\n",
    "print('\\n')\n",
    "for dicts in dataset:\n",
    "    productID.append(dicts.get('productID'))\n",
    "    productCode.append(dicts.get('productCode'))\n",
    "    name.append(dicts.get('name'))\n",
    "print(name)"
   ]
  }
 ],
 "metadata": {
  "kernelspec": {
   "display_name": "Python 3",
   "language": "python",
   "name": "python3"
  },
  "language_info": {
   "codemirror_mode": {
    "name": "ipython",
    "version": 3
   },
   "file_extension": ".py",
   "mimetype": "text/x-python",
   "name": "python",
   "nbconvert_exporter": "python",
   "pygments_lexer": "ipython3",
   "version": "3.7.4"
  }
 },
 "nbformat": 4,
 "nbformat_minor": 2
}
